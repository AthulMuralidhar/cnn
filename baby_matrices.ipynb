{
 "cells": [
  {
   "cell_type": "markdown",
   "metadata": {},
   "source": [
    "a program that returns baby matrices (rows * coloumns)\n",
    "-implicitly converts given matrix into numpy array object"
   ]
  },
  {
   "cell_type": "code",
   "execution_count": 5,
   "metadata": {},
   "outputs": [],
   "source": [
    "import numpy as np"
   ]
  },
  {
   "cell_type": "code",
   "execution_count": 32,
   "metadata": {},
   "outputs": [],
   "source": [
    "class babymatrices:\n",
    "    def __init__(self,matrix,cut = 2):\n",
    "        temp_matrix = np.array(matrix)\n",
    "        self.rows = temp_matrix.shape[0]\n",
    "        self.coloumns = temp_matrix.shape[1]\n",
    "        if self.rows == self.coloumns:\n",
    "            print('givin matrix is a square matrix')\n",
    "            \n",
    "    def factorize(self):\n",
    "        r_fact = []\n",
    "        c_fact = []\n",
    "        for i in range(1,self.rows+1):\n",
    "            if self.rows % i==0:\n",
    "                r_fact.append(i)\n",
    "        for i in range(1,self.coloumns+1):\n",
    "            if self.coloumns % i==0:\n",
    "                c_fact.append(i)\n",
    "        print(max(r_fact+c_fact))\n",
    "#         return max(r_fact + c_fact)\n",
    "    \n",
    "        "
   ]
  },
  {
   "cell_type": "code",
   "execution_count": 36,
   "metadata": {},
   "outputs": [
    {
     "name": "stdout",
     "output_type": "stream",
     "text": [
      "givin matrix is a square matrix\n",
      "4\n",
      "None\n"
     ]
    }
   ],
   "source": [
    "a = [[1,1,1,1],[2,2,2,2],[3,3,3,3],[4,4,4,4]]\n",
    "a = np.array(a)\n",
    "c = babymatrices(a)\n",
    "\n",
    "print(c.factorize())\n",
    "# print(a.shape)"
   ]
  },
  {
   "cell_type": "code",
   "execution_count": 27,
   "metadata": {},
   "outputs": [
    {
     "name": "stdout",
     "output_type": "stream",
     "text": [
      "1\n",
      "13\n"
     ]
    }
   ],
   "source": [
    "b = 13\n",
    "for i in range(1,b+1):\n",
    "    if b%i == 0 :\n",
    "        print(i)\n",
    "    "
   ]
  },
  {
   "cell_type": "code",
   "execution_count": null,
   "metadata": {},
   "outputs": [],
   "source": []
  }
 ],
 "metadata": {
  "kernelspec": {
   "display_name": "Python 3",
   "language": "python",
   "name": "python3"
  },
  "language_info": {
   "codemirror_mode": {
    "name": "ipython",
    "version": 3
   },
   "file_extension": ".py",
   "mimetype": "text/x-python",
   "name": "python",
   "nbconvert_exporter": "python",
   "pygments_lexer": "ipython3",
   "version": "3.7.0"
  }
 },
 "nbformat": 4,
 "nbformat_minor": 2
}
